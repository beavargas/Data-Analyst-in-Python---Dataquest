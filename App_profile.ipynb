{
 "cells": [
  {
   "cell_type": "markdown",
   "metadata": {},
   "source": [
    "# Profitable App Profiles for the App Store and Google Play Markets\n",
    "\n",
    "The goal of this project is to analyse the data of the ___ dataset to help developers understand the type of apps that are likely to atract more users."
   ]
  },
  {
   "cell_type": "markdown",
   "metadata": {},
   "source": [
    "# 1. Opening and Exploring the Data\n",
    "\n",
    "We are going to explore the 'Google Play Store Apps' and the 'Mobile App Store ( 7200 apps)' datasets."
   ]
  },
  {
   "cell_type": "code",
   "execution_count": 16,
   "metadata": {},
   "outputs": [],
   "source": [
    "# First we open the two datasets.\n",
    "\n",
    "open_apple = open('AppleStore.csv')\n",
    "open_google = open('googleplaystore.csv')\n",
    "\n",
    "from csv import reader\n",
    "read_apple = reader(open_apple)\n",
    "read_google = reader(open_google)\n",
    "\n",
    "apps_data_apple = list(read_apple)\n",
    "apps_data_google = list(read_google)"
   ]
  },
  {
   "cell_type": "code",
   "execution_count": 17,
   "metadata": {},
   "outputs": [],
   "source": [
    "# Function to print rows of a given dataset in a readable way -- provided by dataquest\n",
    "def explore_data(dataset, start, end, rows_and_columns=False):\n",
    "    dataset_slice = dataset[start:end]    \n",
    "    for row in dataset_slice:\n",
    "        print(row)\n",
    "        print('\\n') # adds a new (empty) line after each row\n",
    "\n",
    "    if rows_and_columns:\n",
    "        print('Number of rows:', len(dataset))\n",
    "        print('Number of columns:', len(dataset[0]))"
   ]
  },
  {
   "cell_type": "code",
   "execution_count": 18,
   "metadata": {},
   "outputs": [
    {
     "name": "stdout",
     "output_type": "stream",
     "text": [
      "['id', 'track_name', 'size_bytes', 'currency', 'price', 'rating_count_tot', 'rating_count_ver', 'user_rating', 'user_rating_ver', 'ver', 'cont_rating', 'prime_genre', 'sup_devices.num', 'ipadSc_urls.num', 'lang.num', 'vpp_lic']\n",
      "\n",
      "\n",
      "['284882215', 'Facebook', '389879808', 'USD', '0.0', '2974676', '212', '3.5', '3.5', '95.0', '4+', 'Social Networking', '37', '1', '29', '1']\n",
      "\n",
      "\n",
      "['App', 'Category', 'Rating', 'Reviews', 'Size', 'Installs', 'Type', 'Price', 'Content Rating', 'Genres', 'Last Updated', 'Current Ver', 'Android Ver']\n",
      "\n",
      "\n"
     ]
    }
   ],
   "source": [
    "# Printing the Column names of both datasets using the explore_data function\n",
    "explore_data(apps_data_apple, 0, 2)\n",
    "explore_data(apps_data_google,0,1)"
   ]
  },
  {
   "cell_type": "markdown",
   "metadata": {},
   "source": [
    "## Data Cleaining\n",
    "\n",
    "Removing the wrong data and duplicate data.\n",
    "Modifying the data to fit the purpose of the analysis"
   ]
  },
  {
   "cell_type": "code",
   "execution_count": 19,
   "metadata": {},
   "outputs": [
    {
     "name": "stdout",
     "output_type": "stream",
     "text": [
      "['App', 'Category', 'Rating', 'Reviews', 'Size', 'Installs', 'Type', 'Price', 'Content Rating', 'Genres', 'Last Updated', 'Current Ver', 'Android Ver']\n",
      "\n",
      "\n",
      "['Life Made WI-Fi Touchscreen Photo Frame', '1.9', '19', '3.0M', '1,000+', 'Free', '0', 'Everyone', '', 'February 11, 2018', '1.0.19', '4.0 and up']\n",
      "\n",
      "\n",
      "['osmino Wi-Fi: free WiFi', 'TOOLS', '4.2', '134203', '4.1M', '10,000,000+', 'Free', '0', 'Everyone', 'Tools', 'August 7, 2018', '6.06.14', '4.4 and up']\n",
      "\n",
      "\n"
     ]
    }
   ],
   "source": [
    "# This row has an error\n",
    "explore_data(apps_data_google,0,1)\n",
    "explore_data(apps_data_google,10473 ,10475)"
   ]
  },
  {
   "cell_type": "code",
   "execution_count": 20,
   "metadata": {},
   "outputs": [
    {
     "name": "stdout",
     "output_type": "stream",
     "text": [
      "['osmino Wi-Fi: free WiFi', 'TOOLS', '4.2', '134203', '4.1M', '10,000,000+', 'Free', '0', 'Everyone', 'Tools', 'August 7, 2018', '6.06.14', '4.4 and up']\n",
      "\n",
      "\n",
      "['Sat-Fi Voice', 'COMMUNICATION', '3.4', '37', '14M', '1,000+', 'Free', '0', 'Everyone', 'Communication', 'November 21, 2014', '2.2.1.5', '2.2 and up']\n",
      "\n",
      "\n"
     ]
    }
   ],
   "source": [
    "# We delete it and print the dataset again to see it prints the next row\n",
    "del apps_data_google[10473]\n",
    "explore_data(apps_data_google,10473 ,10475)"
   ]
  },
  {
   "cell_type": "code",
   "execution_count": 21,
   "metadata": {},
   "outputs": [
    {
     "name": "stdout",
     "output_type": "stream",
     "text": [
      "['Plants vs. Zombies™ 2', 'FAMILY', '4.4', '567632', '15M', '10,000,000+', 'Free', '0', 'Everyone 10+', 'Casual', 'June 12, 2018', '6.8.1', '4.1 and up']\n",
      "\n",
      "\n",
      "['Command & Conquer: Rivals', 'FAMILY', 'NaN', '0', 'Varies with device', '0', 'NaN', '0', 'Everyone 10+', 'Strategy', 'June 28, 2018', 'Varies with device', 'Varies with device']\n",
      "\n",
      "\n"
     ]
    }
   ],
   "source": [
    "# We do the same with row 9748\n",
    "explore_data(apps_data_google,9148 ,9150) "
   ]
  },
  {
   "cell_type": "code",
   "execution_count": 22,
   "metadata": {},
   "outputs": [
    {
     "name": "stdout",
     "output_type": "stream",
     "text": [
      "['Plants vs. Zombies™ 2', 'FAMILY', '4.4', '567632', '15M', '10,000,000+', 'Free', '0', 'Everyone 10+', 'Casual', 'June 12, 2018', '6.8.1', '4.1 and up']\n",
      "\n",
      "\n",
      "['Star Wars™: Galaxy of Heroes', 'FAMILY', '4.5', '1461698', '67M', '10,000,000+', 'Free', '0', 'Everyone 10+', 'Role Playing', 'May 21, 2018', '0.12.334385', '4.1 and up']\n",
      "\n",
      "\n"
     ]
    }
   ],
   "source": [
    "del apps_data_google[9149]\n",
    "explore_data(apps_data_google,9148 ,9150) "
   ]
  },
  {
   "cell_type": "markdown",
   "metadata": {},
   "source": [
    "## Deleting the duplicate entries. \n",
    "The Google Play dataset contains duplicate entries as we can see in the bellow cell. Let's find out the number of duplicate app entries in the Google PLay dataset."
   ]
  },
  {
   "cell_type": "code",
   "execution_count": 23,
   "metadata": {},
   "outputs": [
    {
     "name": "stdout",
     "output_type": "stream",
     "text": [
      "Number of duplicate apps:  1181 \n",
      "\n",
      "Examples of duplicate apps:  ['Quick PDF Scanner + OCR FREE', 'Box', 'Google My Business', 'ZOOM Cloud Meetings', 'join.me - Simple Meetings', 'Box', 'Zenefits', 'Google Ads', 'Google My Business', 'Slack']\n"
     ]
    }
   ],
   "source": [
    "duplicate_apps = []\n",
    "unique_apps = []\n",
    "\n",
    "for app in apps_data_google:\n",
    "    name = app[0]\n",
    "    if name in unique_apps:\n",
    "        duplicate_apps.append(name)\n",
    "    else:\n",
    "        unique_apps.append(name)\n",
    "print('Number of duplicate apps: ', len(duplicate_apps), '\\n')\n",
    "print('Examples of duplicate apps: ', duplicate_apps[:10])"
   ]
  },
  {
   "cell_type": "markdown",
   "metadata": {},
   "source": [
    "\n",
    "We are going to remove the duplicates in order to have one entry per app but this won't be a randomized process. We will keep the entry with the highest number of reviews as this is an indication that this entry is the most recent one.\n",
    "\n",
    "To do this we will create a dictionary, where each dictionary key is a unique app name and the corresponding dictionary value is the highest number of reviews of that app. The information stored in the dictionary will be used to create a new dataset, which will have only one entry per app (and for each app, we'll only select the entry with the highest number of reviews)."
   ]
  },
  {
   "cell_type": "code",
   "execution_count": 24,
   "metadata": {},
   "outputs": [
    {
     "name": "stdout",
     "output_type": "stream",
     "text": [
      "9658\n"
     ]
    }
   ],
   "source": [
    "reviews_max = {}\n",
    "\n",
    "for row in apps_data_google[1:]:\n",
    "    name = row[0]\n",
    "    n_reviews = float(row[3])\n",
    "    if name in reviews_max and reviews_max[name] < n_reviews:\n",
    "        reviews_max[name] = n_reviews\n",
    "    if name not in reviews_max:\n",
    "        reviews_max[name] = n_reviews\n",
    "        \n",
    "print(len(reviews_max))"
   ]
  },
  {
   "cell_type": "code",
   "execution_count": 25,
   "metadata": {},
   "outputs": [
    {
     "name": "stdout",
     "output_type": "stream",
     "text": [
      "9658\n"
     ]
    }
   ],
   "source": [
    "android_clean = []\n",
    "already_added = []\n",
    "\n",
    "for row in apps_data_google[1:]:\n",
    "    name = row[0]\n",
    "    n_reviews = float(row[3])\n",
    "    if (n_reviews == reviews_max[name]) and (name not in already_added):\n",
    "        android_clean.append(row)\n",
    "        already_added.append(name)\n",
    "print(len(android_clean))"
   ]
  },
  {
   "cell_type": "markdown",
   "metadata": {},
   "source": [
    "## For the Apple Store Dataset"
   ]
  },
  {
   "cell_type": "code",
   "execution_count": 27,
   "metadata": {},
   "outputs": [
    {
     "name": "stdout",
     "output_type": "stream",
     "text": [
      "7198\n",
      "7195\n",
      "7195\n"
     ]
    }
   ],
   "source": [
    "print(len(apps_data_apple))\n",
    "\n",
    "reviews_max_apple = {}\n",
    "\n",
    "for row in apps_data_apple[1:]:\n",
    "    name = row[1]\n",
    "    n_reviews = float(row[5])\n",
    "    if name in reviews_max_apple and reviews_max_apple[name] < n_reviews:\n",
    "        reviews_max_apple[name] = n_reviews\n",
    "    if name not in reviews_max_apple:\n",
    "        reviews_max_apple[name] = n_reviews\n",
    "        \n",
    "print(len(reviews_max_apple))\n",
    "\n",
    "apple_clean = []\n",
    "already_added_apple = []\n",
    "\n",
    "for row in apps_data_apple[1:]:\n",
    "    name = row[1]\n",
    "    n_reviews = float(row[5])\n",
    "    if (n_reviews == reviews_max_apple[name]) and (name not in already_added_apple):\n",
    "        apple_clean.append(row)\n",
    "        already_added_apple.append(name)\n",
    "print(len(apple_clean))"
   ]
  },
  {
   "cell_type": "markdown",
   "metadata": {},
   "source": [
    "## Removing non-english apps\n",
    "\n",
    "We create a function that checks whether the chracters of an input string are those belonging to english words. The ASCII range states that english characters are those between 0 and 127. We consider a word to \"not be english\" if it has 3 or more characters out of the ASCII range."
   ]
  },
  {
   "cell_type": "code",
   "execution_count": null,
   "metadata": {},
   "outputs": [],
   "source": [
    "def english_check(string_to_check):\n",
    "    counter = 0\n",
    "    for character in string_to_check:\n",
    "        if (ord(character) >= 127) and (counter >= 3):\n",
    "            return False\n",
    "        elif (ord(character) >= 127) and (counter < 3):\n",
    "            counter += 1\n",
    "            \n",
    "    return True"
   ]
  },
  {
   "cell_type": "code",
   "execution_count": null,
   "metadata": {},
   "outputs": [],
   "source": [
    "android_english = []\n",
    "\n",
    "for row in android_clean:\n",
    "    name = row[0]\n",
    "    if english_check(name) == True:\n",
    "        android_english.append(row)\n",
    "print(len(android_english))"
   ]
  },
  {
   "cell_type": "code",
   "execution_count": null,
   "metadata": {},
   "outputs": [],
   "source": [
    "apple_english = []\n",
    "\n",
    "print(len(apps_data_apple))\n",
    "\n",
    "for row in apps_data_apple:\n",
    "    name = row[1]\n",
    "    if english_check(name) == True:\n",
    "        apple_english.append(row)\n",
    "print(len(apple_english))"
   ]
  },
  {
   "cell_type": "markdown",
   "metadata": {},
   "source": [
    "## Isolating Free Apps"
   ]
  },
  {
   "cell_type": "code",
   "execution_count": null,
   "metadata": {},
   "outputs": [],
   "source": [
    "free = android_english[2][6]\n",
    "\n",
    "android_free = []\n",
    "\n",
    "for row in android_english:\n",
    "    if row[6] == free:\n",
    "        android_free.append(row)\n",
    "        \n",
    "print(len(android_free))"
   ]
  },
  {
   "cell_type": "markdown",
   "metadata": {},
   "source": [
    "free = apple_english[2][4]\n",
    "\n",
    "apple_free = []\n",
    "\n",
    "for row in apple_english:\n",
    "    if row[4] == free:\n",
    "        apple_free.append(row)\n",
    "        \n",
    "print(len(apple_free))"
   ]
  },
  {
   "cell_type": "markdown",
   "metadata": {},
   "source": [
    "# Data analysis\n",
    "Because our end goal is to add the app on both Google Play and the App Store, we need to find app profiles that are successful in both markets.\n",
    "\n",
    "Our validation strategy for an app idea is the following:\n",
    "\n",
    "1. Build a minimal Android version of the app, and add it to Google Play.\n",
    "2. If the app has a good response from users, we develop it further.\n",
    "3. If the app is profitable after six months, we build an iOS version of the app and add it to the App Store.\n",
    "\n",
    "For apple is coloumn [11] -> prime_genre\n",
    "\n",
    "For google is coloumn [9] -> Genres\n",
    "\n",
    "For google is coloumn [1] -> Category"
   ]
  },
  {
   "cell_type": "code",
   "execution_count": null,
   "metadata": {},
   "outputs": [],
   "source": [
    "def freq_table(dataset, index):\n",
    "    frequency_table = {}\n",
    "    percentages_table = {}\n",
    "    total = 0\n",
    "    for row in dataset:\n",
    "        total += 1\n",
    "        if row[index] in frequency_table:\n",
    "            frequency_table[row[index]] += 1\n",
    "        else:\n",
    "            frequency_table[row[index]] = 1\n",
    "    print(total)\n",
    "    for key in frequency_table:\n",
    "        percentage = (frequency_table[key] / total) * 100\n",
    "        percentages_table[key] = percentage\n",
    "    return percentages_table"
   ]
  },
  {
   "cell_type": "code",
   "execution_count": null,
   "metadata": {},
   "outputs": [],
   "source": [
    "def display_table(dataset, index):\n",
    "    table = freq_table(dataset, index)\n",
    "    table_display = []\n",
    "    for key in table:\n",
    "        key_val_as_tuple = (table[key], key)\n",
    "        table_display.append(key_val_as_tuple)\n",
    "\n",
    "    table_sorted = sorted(table_display, reverse = True)\n",
    "    for entry in table_sorted:\n",
    "        print(entry[1], ':', entry[0])"
   ]
  },
  {
   "cell_type": "code",
   "execution_count": null,
   "metadata": {},
   "outputs": [],
   "source": [
    "display_table(apple_free, 11)"
   ]
  },
  {
   "cell_type": "markdown",
   "metadata": {},
   "source": [
    "App store dataset:\n",
    "- The most common genre is 'Games' and the second most common is 'Entertainment'\n",
    "- The more popular apps tend to be entertainment apps"
   ]
  },
  {
   "cell_type": "code",
   "execution_count": null,
   "metadata": {},
   "outputs": [],
   "source": [
    "display_table(android_free, 9)"
   ]
  },
  {
   "cell_type": "code",
   "execution_count": null,
   "metadata": {},
   "outputs": [],
   "source": [
    "display_table(android_free, 1)"
   ]
  },
  {
   "cell_type": "markdown",
   "metadata": {},
   "source": [
    "For the Google Play dataset the most coomon genres are tools and family.\n",
    "\n",
    "Apps designed for fun dominate the App Store, while Google Play shows a more balanced landscape of both practical and fun apps"
   ]
  },
  {
   "cell_type": "markdown",
   "metadata": {},
   "source": [
    "## Analysing the frequency table generated for the prime_genre column of App Store dataset"
   ]
  },
  {
   "cell_type": "code",
   "execution_count": null,
   "metadata": {},
   "outputs": [],
   "source": [
    "genres_apple = freq_table(apple_free, -5)\n",
    "\n",
    "for genre in genres_apple:\n",
    "    total = 0\n",
    "    len_genre = 0\n",
    "    for app in apple_free:\n",
    "        app_genre = app[-5]\n",
    "        if app_genre == genre:\n",
    "            n_ratings = float(app[5])\n",
    "            total += n_ratings\n",
    "            len_genre += 1\n",
    "    avg_n_ratings = total / len_genre\n",
    "    print(genre, ':', avg_n_ratings)"
   ]
  },
  {
   "cell_type": "markdown",
   "metadata": {},
   "source": [
    "Navigation apps have the highest number of user reviews. However this is mainly composed of Google Maps and Waze reviews. Social Networking also has very high number of user reviews. Something similar happens were companies such as Facebook, Instagram, etc account for the majority of the reviews. Same happens with Music apps were Spotify, Shazam etc account for the most of thr reviews."
   ]
  },
  {
   "cell_type": "markdown",
   "metadata": {},
   "source": [
    "## Analysing the frequency table generated for the Category and Genres columns of the Google Play dataset"
   ]
  },
  {
   "cell_type": "code",
   "execution_count": null,
   "metadata": {},
   "outputs": [],
   "source": [
    "categories_android = freq_table(android_free, 1)\n",
    "\n",
    "for category in categories_android:\n",
    "    total = 0\n",
    "    len_category = 0\n",
    "    for app in android_free:\n",
    "        category_app = app[1]\n",
    "        if category_app == category:\n",
    "            n_installs = app[5]\n",
    "            n_installs = n_installs.replace(',', '')\n",
    "            n_installs = n_installs.replace('+', '')\n",
    "            total += float(n_installs)\n",
    "            len_category += 1\n",
    "    avg_n_installs = total / len_category\n",
    "    print(category, ':', avg_n_installs)"
   ]
  },
  {
   "cell_type": "markdown",
   "metadata": {},
   "source": [
    "Communication apps have the most installs, this number is heavily skewed by the most popular apps such as WhatsApp, Facebook, Gmail, etc. Who have more than 1 Billion downloads."
   ]
  },
  {
   "cell_type": "code",
   "execution_count": null,
   "metadata": {},
   "outputs": [],
   "source": [
    "genres_android = freq_table(android_free, 9)\n",
    "\n",
    "for genre in genres_android:\n",
    "    total = 0\n",
    "    len_genre = 0\n",
    "    for app in android_free:\n",
    "        genre_app = app[9]\n",
    "        if genre_app == genre:\n",
    "            n_installs = app[5]\n",
    "            n_installs = n_installs.replace(',', '')\n",
    "            n_installs = n_installs.replace('+', '')\n",
    "            total += float(n_installs)\n",
    "            len_genre += 1\n",
    "    avg_n_installs = total / len_genre\n",
    "    print(genre, ':', avg_n_installs)"
   ]
  },
  {
   "cell_type": "markdown",
   "metadata": {},
   "source": []
  },
  {
   "cell_type": "code",
   "execution_count": null,
   "metadata": {},
   "outputs": [],
   "source": []
  }
 ],
 "metadata": {
  "kernelspec": {
   "display_name": "base",
   "language": "python",
   "name": "python3"
  },
  "language_info": {
   "codemirror_mode": {
    "name": "ipython",
    "version": 3
   },
   "file_extension": ".py",
   "mimetype": "text/x-python",
   "name": "python",
   "nbconvert_exporter": "python",
   "pygments_lexer": "ipython3",
   "version": "3.8.3"
  }
 },
 "nbformat": 4,
 "nbformat_minor": 2
}
