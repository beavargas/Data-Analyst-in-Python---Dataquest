{
 "cells": [
  {
   "cell_type": "markdown",
   "metadata": {
    "collapsed": true
   },
   "source": [
    "# Optimising engagement with Hacker News Data "
   ]
  },
  {
   "cell_type": "markdown",
   "metadata": {},
   "source": [
    "*Induvial & extracurricular project.*\n",
    "\n",
    "**Aim**: to analyse the most effective time for maximising user engagement through social media post timing. With the goal of supporting brands marketing social media posts.\n",
    "This will be done by leveraging the Hacker News dataset (https://www.kaggle.com/datasets/hacker-news/hacker-news-posts ).\n",
    "\n",
    "**Technical objectives**:\n",
    "- Utilise Object-Oriented Programming (OOP)\n",
    "- Work with strings\n",
    "- Implement the \"datetime\" package to manipulate raw data into useful data structures\n"
   ]
  },
  {
   "cell_type": "markdown",
   "metadata": {},
   "source": [
    "- Do Ask HN or Show HN receive more comments on average?\n",
    "- Do posts created at a certain time receive more comments on average?"
   ]
  },
  {
   "cell_type": "code",
   "execution_count": 25,
   "metadata": {},
   "outputs": [],
   "source": [
    "# Importing neccessary packages\n",
    "from statistics import mean\n",
    "import datetime as dt\n",
    "import matplotlib.pyplot as plt"
   ]
  },
  {
   "cell_type": "code",
   "execution_count": 2,
   "metadata": {},
   "outputs": [],
   "source": [
    "# Reading the file in as a list of lists\n",
    "opened_file = open('hacker_news.csv')\n",
    "from csv import reader\n",
    "read_file = reader(opened_file)\n",
    "hn = list(read_file)"
   ]
  },
  {
   "cell_type": "code",
   "execution_count": 3,
   "metadata": {},
   "outputs": [
    {
     "name": "stdout",
     "output_type": "stream",
     "text": [
      "['id', 'title', 'url', 'num_points', 'num_comments', 'author', 'created_at']\n"
     ]
    }
   ],
   "source": [
    "# Removing the headers from the dataset and assigning it to a variable called \"headers\". \n",
    "# The new list of lists without the headers is \"hn\"\n",
    "headers = hn[0]\n",
    "print(headers)\n",
    "\n",
    "hn = hn[1:]"
   ]
  },
  {
   "cell_type": "markdown",
   "metadata": {},
   "source": [
    "### Filtering the data\n",
    "\n",
    "Only the post starting with \"Ask HN\" or \"Show HN\" will be selected to analyse since they represent those with most user engagement.\n",
    "\n",
    "The string method \"startswith\" will be utilise to find these posts."
   ]
  },
  {
   "cell_type": "code",
   "execution_count": 20,
   "metadata": {},
   "outputs": [
    {
     "name": "stdout",
     "output_type": "stream",
     "text": [
      "Number of Ask posts:  1744\n",
      "Number of Show posts:  1162\n",
      "Number of Other posts:  17194\n"
     ]
    }
   ],
   "source": [
    "# Creating the lists to store each post in a category: either \"Ask\", \"Show\" or \"Other\"\n",
    "ask_posts = []\n",
    "show_posts = []\n",
    "other_posts = []\n",
    "\n",
    "for row in hn:\n",
    "    title = (row[1].lower())\n",
    "    if title.startswith('ask hn'):\n",
    "        ask_posts.append(row)\n",
    "    elif title.startswith('show hn'):\n",
    "        show_posts.append(row)\n",
    "    else:\n",
    "        other_posts.append(row)\n",
    "\n",
    "print(\"Number of Ask posts: \", len(ask_posts))\n",
    "print(\"Number of Show posts: \", len(show_posts))\n",
    "print(\"Number of Other posts: \", len(other_posts))"
   ]
  },
  {
   "cell_type": "markdown",
   "metadata": {},
   "source": [
    "From printing the length of each list we can see that \"other\" posts is the largest list with 17194 posts, followed by \"ask\" posts with 1744, and lastly \"Show\" posts with 1162."
   ]
  },
  {
   "cell_type": "markdown",
   "metadata": {},
   "source": [
    "### Initial statistical analysis\n",
    "The average comments in \"Ask\" and \"Show\" post is found to determine which type of post receives more comments on average."
   ]
  },
  {
   "cell_type": "code",
   "execution_count": 19,
   "metadata": {},
   "outputs": [
    {
     "name": "stdout",
     "output_type": "stream",
     "text": [
      "Total Ask comments:  24483\n",
      "Average number of comments in Ask posts:  14.038417431192661\n"
     ]
    }
   ],
   "source": [
    "# Finding the average number of comments in \"Ask\" posts\n",
    "total_ask_comments = 0\n",
    "list_col4 = []\n",
    "for row in ask_posts:\n",
    "    num_comments = row[4]\n",
    "    list_col4.append(int(num_comments))\n",
    "    total_ask_comments += int(num_comments)\n",
    "print(\"Total Ask comments: \", total_ask_comments)\n",
    "avg_ask_comments = mean(list_col4)\n",
    "print(\"Average number of comments in Ask posts: \", avg_ask_comments)"
   ]
  },
  {
   "cell_type": "code",
   "execution_count": 18,
   "metadata": {},
   "outputs": [
    {
     "name": "stdout",
     "output_type": "stream",
     "text": [
      "Total Show comments:  11988\n",
      "Average number of comments in Show posts:  10.31669535283993\n"
     ]
    }
   ],
   "source": [
    "# Finding the average number of comments in \"Show\" posts\n",
    "total_show_comments = 0\n",
    "list_col4_show = []\n",
    "for row in show_posts:\n",
    "    num_comments = row[4]\n",
    "    list_col4_show.append(int(num_comments))\n",
    "    total_show_comments += int(num_comments)\n",
    "print(\"Total Show comments: \",total_show_comments)\n",
    "avg_show_comments = mean(list_col4_show)\n",
    "print(\"Average number of comments in Show posts: \", avg_show_comments)"
   ]
  },
  {
   "cell_type": "markdown",
   "metadata": {},
   "source": [
    "\"Ask\" posts receive more comments on average with 14 average comments per post compared to the 10 comments per post for \"show\" posts. Since \"Ask\" posts are more likely to receive comments, the rest of the analysis will focus on these posts."
   ]
  },
  {
   "cell_type": "markdown",
   "metadata": {},
   "source": [
    "### Analysis on the link between the time a post is created and the amount of comments it receives\n",
    "\n",
    "Firstly, the number of \"Ask\" posts created in each hour of the day, along with the number of comments received will be calculated.\n",
    "Secondly, the avergae number of comments the posts recieve by hour created will be calculated."
   ]
  },
  {
   "cell_type": "code",
   "execution_count": 22,
   "metadata": {},
   "outputs": [
    {
     "name": "stdout",
     "output_type": "stream",
     "text": [
      "Counts by hour:  {'09': 45, '13': 85, '10': 59, '14': 107, '16': 108, '23': 68, '12': 73, '17': 100, '15': 116, '21': 109, '20': 80, '02': 58, '18': 109, '03': 54, '05': 46, '19': 110, '01': 60, '22': 71, '08': 48, '04': 47, '00': 55, '06': 44, '07': 34, '11': 58}\n",
      "Comments by hour:  {'09': 251, '13': 1253, '10': 793, '14': 1416, '16': 1814, '23': 543, '12': 687, '17': 1146, '15': 4477, '21': 1745, '20': 1722, '02': 1381, '18': 1439, '03': 421, '05': 464, '19': 1188, '01': 683, '22': 479, '08': 492, '04': 337, '00': 447, '06': 397, '07': 267, '11': 641}\n"
     ]
    }
   ],
   "source": [
    "# Iterating over \"Ask\" posts and appending to \"result_list\" a list with two elements. \n",
    "# The first column is the time the post was created which is in the 6th column of \"ask_posts\".\n",
    "# The second column is the number of comments of the post, which is the 4th column of \"ask_posts\".\n",
    "\n",
    "result_list = []\n",
    "\n",
    "for row in ask_posts:\n",
    "    created_at = row[6]\n",
    "    num_comments = row[4]\n",
    "    result_list.append([created_at, int(num_comments)])\n",
    "\n",
    "counts_by_hour = {} # contains the number of \"ask\" posts created during each hour of the day\n",
    "comments_by_hour = {} # contains the corresponding number of comments \"ask\" posts created at each hour received.\n",
    "\n",
    "for row in result_list:\n",
    "    date = row[0]\n",
    "    num_comments = row[1]\n",
    "    # Using the datetime.strptime() method to parse the date and create a datetime object.\n",
    "    time = dt.datetime.strptime(date, \"%m/%d/%Y %H:%M\")\n",
    "    hour = time.strftime(\"%H\")\n",
    "    if hour not in counts_by_hour:\n",
    "        counts_by_hour[hour] = 1\n",
    "        comments_by_hour[hour] = int(num_comments)\n",
    "    elif hour in counts_by_hour:\n",
    "        counts_by_hour[hour] += 1\n",
    "        comments_by_hour[hour] += int(num_comments)\n",
    "print(\"Counts by hour: \", counts_by_hour)\n",
    "print(\"Comments by hour: \", comments_by_hour)"
   ]
  },
  {
   "cell_type": "code",
   "execution_count": 38,
   "metadata": {},
   "outputs": [
    {
     "name": "stdout",
     "output_type": "stream",
     "text": [
      "Top 5 hours for Ask posts Comments (US time)\n",
      "15:00: 38.59 average comments per post\n",
      "02:00: 23.81 average comments per post\n",
      "20:00: 21.52 average comments per post\n",
      "16:00: 16.80 average comments per post\n",
      "21:00: 16.01 average comments per post\n",
      "Least 3 hours for Ask posts Comments (US time)\n",
      "09:00: 5.58 average comments per post\n",
      "22:00: 6.75 average comments per post\n",
      "04:00: 7.17 average comments per post\n",
      "03:00: 7.80 average comments per post\n",
      "07:00: 7.85 average comments per post\n"
     ]
    }
   ],
   "source": [
    "# Calculating the average number of comments for posts created during each hour of the day.\n",
    "comments = []\n",
    "for hour in comments_by_hour:\n",
    "    comments.append([hour, comments_by_hour[hour] / counts_by_hour[hour]])\n",
    "\n",
    "# Sorting  the list of lists from highest to lowest for easier analysis\n",
    "swap_avg_by_hour = []\n",
    "for row in comments:\n",
    "    avg = row[1]\n",
    "    hr = row[0]\n",
    "    swap_avg_by_hour.append([avg, hr])\n",
    "sorted_swap = sorted(swap_avg_by_hour, reverse=True)\n",
    "\n",
    "# Printing the top 5 hours for \"Ask\" posts comments\n",
    "print(\"Top 5 hours for Ask posts Comments (US time)\")\n",
    "for avg, hr in sorted_swap[:5]:\n",
    "    print(\n",
    "        \"{}: {:.2f} average comments per post\".format(\n",
    "            dt.datetime.strptime(hr, \"%H\").strftime(\"%H:%M\"),avg\n",
    "        )\n",
    "    )\n",
    "\n",
    "#Printing the 3 times of day with the least \"Ask\" post comments\n",
    "sorted_swap_asc = sorted(swap_avg_by_hour, reverse=False)\n",
    "print(\"Least 5 hours for Ask posts Comments (US time)\")\n",
    "for avg, hr in sorted_swap_asc[:5]:\n",
    "    print(\n",
    "        \"{}: {:.2f} average comments per post\".format(\n",
    "            dt.datetime.strptime(hr, \"%H\").strftime(\"%H:%M\"),avg\n",
    "        )\n",
    "    )"
   ]
  },
  {
   "cell_type": "markdown",
   "metadata": {},
   "source": [
    "This dataset is in US Easter time which is 5 hours behind Uk time. Therefore the top 5 times to do a \"Ask\" post are: \n",
    "- 8pm\n",
    "- 7am\n",
    "- 1am\n",
    "- 9pm\n",
    "- 2am.\n",
    "\n",
    "The 5 hours with the least number of comments are:\n",
    "- 2pm\n",
    "- 3am\n",
    "- 9am\n",
    "- 8am\n",
    "- Noon"
   ]
  },
  {
   "cell_type": "markdown",
   "metadata": {},
   "source": [
    "Below the avergae number of comments per post by hour is plotted in a bar chart and allows for easy inspection of the peaks and fluctuations of comments in \"ask\" posts. The hour has been converted to UK time."
   ]
  },
  {
   "cell_type": "code",
   "execution_count": 31,
   "metadata": {},
   "outputs": [
    {
     "data": {
      "image/png": "[encoded data removed]",
      "text/plain": [
       "<Figure size 720x432 with 1 Axes>"
      ]
     },
     "metadata": {
      "needs_background": "light"
     },
     "output_type": "display_data"
    }
   ],
   "source": [
    "# Sorting by hour in chronological order\n",
    "sorted_swap_by_hour = sorted(sorted_swap, key=lambda x: int(x[1]))  \n",
    "\n",
    "# Extracting hours and average comments from sorted_swap_by_hour to plot them.\n",
    "hours = []\n",
    "avg_comments = []\n",
    "for avg, hr in sorted_swap_by_hour:\n",
    "    # Using datetime.strptime to convert the hour into a readable format\n",
    "    us_hour = dt.datetime.strptime(str(hr), \"%H\")\n",
    "    # Adding 5 hours to convert to UK time\n",
    "    uk_hour = us_hour + dt.timedelta(hours=5)\n",
    "    formatted_uk_hour = uk_hour.strftime(\"%H:%M\")\n",
    "    hours.append(formatted_uk_hour)\n",
    "    avg_comments.append(avg)\n",
    "\n",
    "# PLotting a bar graph using Matplotlib\n",
    "plt.figure(figsize=(10, 6))\n",
    "plt.bar(hours, avg_comments, color='red')\n",
    "plt.title('Average number of comments per post by hour (UK time)', fontsize=16)\n",
    "plt.xlabel('Hour of the day UK time', fontsize=12)\n",
    "plt.ylabel('Average number of comments', fontsize=12)\n",
    "plt.xticks(rotation=45)\n",
    "plt.tight_layout()\n",
    "plt.show()"
   ]
  },
  {
   "cell_type": "markdown",
   "metadata": {},
   "source": [
    "### Conclusion:\n",
    "\n",
    "The analysis indicates that user engagement, measured by the number of comments, peaks at 8pm UK time. Secondary peaks occur at 7am and 1am. These engagement patterns align with typical 9 to 5 work schedules, as users are most active before and after traditional working hours. On the other hand, the hours with the least average number of comments are at 2pm, followed by 3am and 9am, which further supports the correlation between engagement and work schedule. \n",
    "\n",
    "These results show the peak and low engagement periods, valuable for timing content releases and maximising interaction with brands marketing content."
   ]
  }
 ],
 "metadata": {
  "kernelspec": {
   "display_name": "Python 3",
   "language": "python",
   "name": "python3"
  },
  "language_info": {
   "codemirror_mode": {
    "name": "ipython",
    "version": 3
   },
   "file_extension": ".py",
   "mimetype": "text/x-python",
   "name": "python",
   "nbconvert_exporter": "python",
   "pygments_lexer": "ipython3",
   "version": "3.8.3"
  }
 },
 "nbformat": 4,
 "nbformat_minor": 2
}
